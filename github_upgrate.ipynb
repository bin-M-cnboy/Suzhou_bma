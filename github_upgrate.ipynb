{
 "cells": [
  {
   "cell_type": "code",
   "execution_count": null,
   "id": "bdd37e96",
   "metadata": {},
   "outputs": [],
   "source": [
    "git add .\n",
    "git commit -m \"\"\n",
    "git push -u origin main\n",
    "\n",
    "git status"
   ]
  }
 ],
 "metadata": {
  "language_info": {
   "name": "python"
  }
 },
 "nbformat": 4,
 "nbformat_minor": 5
}

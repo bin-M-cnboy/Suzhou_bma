{
 "cells": [
  {
   "cell_type": "code",
   "execution_count": null,
   "id": "c7e2e9b1",
   "metadata": {},
   "outputs": [],
   "source": [
    "git clone https://github.com/bin-M-cnboy/SuZhou_Study.git"
   ]
  },
  {
   "cell_type": "code",
   "execution_count": null,
   "id": "bdd37e96",
   "metadata": {},
   "outputs": [],
   "source": [
    "git add .\n",
    "git commit -m \"\"\n",
    "git push -u origin main"
   ]
  },
  {
   "cell_type": "code",
   "execution_count": null,
   "id": "14bee6d8",
   "metadata": {},
   "outputs": [],
   "source": [
    "git rm -rf --cached Lab1_AgentPrune_openai/.git\n",
    "git rm -rf --cached Lab2_AgentPrune_vllm/.git\n"
   ]
  },
  {
   "cell_type": "code",
   "execution_count": null,
   "id": "e4280a91",
   "metadata": {},
   "outputs": [],
   "source": [
    "git status"
   ]
  }
 ],
 "metadata": {
  "language_info": {
   "name": "python"
  }
 },
 "nbformat": 4,
 "nbformat_minor": 5
}

{
 "cells": [
  {
   "cell_type": "code",
   "execution_count": null,
   "id": "402ec742",
   "metadata": {
    "vscode": {
     "languageId": "plaintext"
    }
   },
   "outputs": [],
   "source": [
    "conda create -p /data0/bma/env/agentprune python=3.10\n",
    "conda activate /data0/bma/env/agentprune\n",
    "pip install -r  Lab1/requirements.txt"
   ]
  },
  {
   "cell_type": "code",
   "execution_count": null,
   "id": "a5f130bc",
   "metadata": {
    "vscode": {
     "languageId": "plaintext"
    }
   },
   "outputs": [],
   "source": [
    "python Lab2/experiments/run_mmlu.py --agent_nums 1 --mode DirectAnswer --decision_method FinalMajorVote --agent_names AdverarialAgent --batch_size 4\n",
    "\n",
    "python Lab1/experiments/run_mmlu.py --agent_nums 6 --mode FakeChain --decision_method FinalMajorVote --agent_names AdverarialAgent --batch_size 4\n",
    "\n",
    "python Lab1/experiments/run_mmlu.py --agent_nums 6 --mode FakeRandom --decision_method FinalMajorVote --agent_names AdverarialAgent --batch_size 4\n",
    "\n",
    "python Lab1/experiments/run_mmlu.py --agent_nums 6 --mode FakeAGFull --batch_size 4 --num_iterations 10 --imp_per_iterations 5 --pruning_rate 0.25 --num_rounds 1 --optimized_spatial --optimized_temporal"
   ]
  },
  {
   "cell_type": "code",
   "execution_count": null,
   "id": "ab1e3eb7",
   "metadata": {
    "vscode": {
     "languageId": "plaintext"
    }
   },
   "outputs": [],
   "source": [
    "python Lab2/experiments_autogen/run_humaneval.py --optimized_spatial --optimized_temporal  \n",
    "\n",
    "python Lab1/experiments_autogen/run_gsm8k.py --optimized_spatial --optimized_temporal   \n",
    "去除未定义的 ``` --no_spatial ```\n",
    "\n",
    "python Lab1/experiments/run_mmlu.py --mode FullConnected --batch_size 4 --agent_nums 5 --num_iterations 200 --imp_per_iterations 200 --pruning_rate 0.5 --num_rounds 1 --optimized_spatial"
   ]
  },
  {
   "cell_type": "code",
   "execution_count": null,
   "id": "d3aa31cf",
   "metadata": {
    "vscode": {
     "languageId": "plaintext"
    }
   },
   "outputs": [],
   "source": [
    "https://github.com/yanweiyue/AgentPrune.git"
   ]
  },
  {
   "cell_type": "code",
   "execution_count": null,
   "id": "6266b6ac",
   "metadata": {
    "vscode": {
     "languageId": "plaintext"
    }
   },
   "outputs": [],
   "source": [
    "meta-llama/Llama-3.2-1B-Instruct\n",
    "Qwen/Qwen3-4B\n",
    "\n",
    "Qwen/Qwen2.5-0.5B-Instruct\n",
    "models/Qwen2_5-0_5B-Instruct\n",
    "\n",
    "Qwen/Qwen3-8B\n",
    "models/Qwen3-8B"
   ]
  },
  {
   "cell_type": "code",
   "execution_count": null,
   "id": "93a7b169",
   "metadata": {
    "vscode": {
     "languageId": "plaintext"
    }
   },
   "outputs": [],
   "source": [
    "huggingface-cli download Qwen/Qwen3-8B --local-dir models/Qwen3-8B --local-dir-use-symlinks False --resume-download"
   ]
  },
  {
   "cell_type": "code",
   "execution_count": null,
   "id": "52ca0016",
   "metadata": {
    "vscode": {
     "languageId": "plaintext"
    }
   },
   "outputs": [],
   "source": [
    "lsof -i :8001  \n",
    "nvidia-smi"
   ]
  }
 ],
 "metadata": {
  "language_info": {
   "name": "python"
  }
 },
 "nbformat": 4,
 "nbformat_minor": 5
}

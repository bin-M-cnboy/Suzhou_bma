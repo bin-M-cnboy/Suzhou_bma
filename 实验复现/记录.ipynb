{
 "cells": [
  {
   "cell_type": "code",
   "execution_count": null,
   "id": "402ec742",
   "metadata": {
    "vscode": {
     "languageId": "plaintext"
    }
   },
   "outputs": [],
   "source": [
    "conda create -p /data0/bma/env/agentprune python=3.10\n",
    "conda activate /data0/bma/env/agentprune\n",
    "pip install -r  Lab1/requirements.txt"
   ]
  },
  {
   "cell_type": "code",
   "execution_count": null,
   "id": "6266b6ac",
   "metadata": {
    "vscode": {
     "languageId": "plaintext"
    }
   },
   "outputs": [],
   "source": [
    "meta-llama/Llama-3.2-1B-Instruct\n",
    "Qwen/Qwen3-4B\n",
    "\n",
    "Qwen/Qwen2.5-0.5B-Instruct\n",
    "models/Qwen2_5-0_5B-Instruct\n",
    "\n",
    "Qwen/Qwen3-8B\n",
    "models/Qwen3-8B"
   ]
  },
  {
   "cell_type": "code",
   "execution_count": null,
   "id": "93a7b169",
   "metadata": {
    "vscode": {
     "languageId": "plaintext"
    }
   },
   "outputs": [],
   "source": [
    "huggingface-cli download Qwen/Qwen3-8B --local-dir models/Qwen3-8B --local-dir-use-symlinks False --resume-download"
   ]
  },
  {
   "cell_type": "code",
   "execution_count": null,
   "id": "52ca0016",
   "metadata": {
    "vscode": {
     "languageId": "plaintext"
    }
   },
   "outputs": [],
   "source": [
    "lsof -i :8001  \n",
    "nvidia-smi"
   ]
  }
 ],
 "metadata": {
  "language_info": {
   "name": "python"
  }
 },
 "nbformat": 4,
 "nbformat_minor": 5
}

{
 "cells": [
  {
   "cell_type": "code",
   "execution_count": null,
   "id": "018cb178",
   "metadata": {},
   "outputs": [],
   "source": [
    "# https://docs.pytorch.org/tutorials/beginner/basics/quickstart_tutorial.html"
   ]
  },
  {
   "cell_type": "code",
   "execution_count": null,
   "id": "7e7074e7",
   "metadata": {},
   "outputs": [],
   "source": [
    "# Download training data from open datasets.\n",
    "training_data = datasets.FashionMNIST(\n",
    "    root=\"data\",\n",
    "    train=True,\n",
    "    download=True,\n",
    "    transform=ToTensor(),\n",
    ")\n",
    "\n",
    "# Download test data from open datasets.\n",
    "test_data = datasets.FashionMNIST(\n",
    "    root=\"data\",\n",
    "    train=False,\n",
    "    download=True,\n",
    "    transform=ToTensor(),\n",
    ")"
   ]
  },
  {
   "cell_type": "markdown",
   "id": "20d1b56c",
   "metadata": {},
   "source": [
    "# Tensor"
   ]
  },
  {
   "cell_type": "code",
   "execution_count": null,
   "id": "0db6859d",
   "metadata": {},
   "outputs": [],
   "source": [
    "# pip install --upgrade --force-reinstall torch numpy "
   ]
  },
  {
   "cell_type": "code",
   "execution_count": null,
   "id": "081f7000",
   "metadata": {},
   "outputs": [],
   "source": [
    "import torch\n",
    "import numpy as np\n",
    "\n",
    "print('torch版本:', torch.__version__); \n",
    "print('torch安装路径:', torch.__file__); \n",
    "print('numpy版本:', np.__version__); \n",
    "print('numpy安装路径:', np.__file__); "
   ]
  },
  {
   "cell_type": "code",
   "execution_count": null,
   "id": "9460148e",
   "metadata": {},
   "outputs": [],
   "source": [
    "# 从数据\n",
    "data = [[1, 2],[3, 4]]\n",
    "x_data = torch.tensor(data)\n",
    "print(x_data)\n",
    "# 从NumPy数组\n",
    "# np_array = np.array(data)\n",
    "# x_np = torch.from_numpy(np_array)\n",
    "# print(x_np)\n",
    "# 从另一个张量\n",
    "x_ones = torch.ones_like(x_data) \n",
    "print(f\"Ones Tensor: \\n {x_ones} \\n\")\n",
    "x_rand = torch.rand_like(x_data, dtype=torch.float) \n",
    "print(f\"Random Tensor: \\n {x_rand} \\n\")\n",
    "\n",
    "shape = (2,3,)\n",
    "rand_tensor = torch.rand(shape)\n",
    "ones_tensor = torch.ones(shape)\n",
    "zeros_tensor = torch.zeros(shape)\n",
    "print(f\"Random Tensor: \\n {rand_tensor} \\n\")\n",
    "print(f\"Ones Tensor: \\n {ones_tensor} \\n\")\n",
    "print(f\"Zeros Tensor: \\n {zeros_tensor}\")"
   ]
  },
  {
   "cell_type": "code",
   "execution_count": null,
   "id": "851453e4",
   "metadata": {},
   "outputs": [],
   "source": [
    "# 一些属性\n",
    "tensor = torch.rand(3,4)\n",
    "print(f\"Shape of tensor: {tensor.shape}\")\n",
    "print(f\"Datatype of tensor: {tensor.dtype}\")\n",
    "print(f\"Device tensor is stored on: {tensor.device}\")\n",
    "\n",
    "if torch.accelerator.is_available():\n",
    "    tensor = tensor.to(torch.accelerator.current_accelerator())\n",
    "print(f\"Device tensor is stored on: {tensor.device}\")"
   ]
  },
  {
   "cell_type": "code",
   "execution_count": null,
   "id": "f434d3a9",
   "metadata": {},
   "outputs": [],
   "source": [
    "tensor = torch.ones(4, 4)\n",
    "print(f\"First row: {tensor[0]}\")\n",
    "print(f\"First column: {tensor[:, 0]}\")\n",
    "print(f\"Last column: {tensor[..., -1]}\")\n",
    "tensor[:,1] = 0\n",
    "print(tensor)\n",
    "\n",
    "# 连接张量\n",
    "t1 = torch.cat([tensor, tensor, tensor], dim=1)\n",
    "print(t1)\n",
    "# 算术运算\n",
    "y1 = tensor @ tensor.T  # matrix multiplication @\n",
    "# y2 = tensor.matmul(tensor.T)\n",
    "# y3 = torch.rand_like(y1)\n",
    "# torch.matmul(tensor, tensor.T, out=y3)\n",
    "print(f\"y1 == {y1}\")\n",
    "z1 = tensor * tensor    # element-wise mul *\n",
    "# z2 = tensor.mul(tensor)\n",
    "# z3 = torch.rand_like(tensor)\n",
    "# torch.mul(tensor, tensor, out=z3)\n",
    "print(f\"z1 == {z1}\")\n",
    "# 单元素张量转换为Python数值 item()\n",
    "agg = tensor.sum()\n",
    "agg_item = agg.item()\n",
    "print(f\"agg_item: {agg_item, type(agg_item)}\")\n",
    "# 就地操作,使用 _后缀 # 可节省内存,但可能出问题\n",
    "print(f\"add_before: {tensor} \")\n",
    "tensor.add_(5)\n",
    "print(f\"add_after: {tensor} \")"
   ]
  },
  {
   "cell_type": "markdown",
   "id": "e57ecb23",
   "metadata": {},
   "source": [
    "# Dataset & Datasetloader"
   ]
  },
  {
   "cell_type": "code",
   "execution_count": null,
   "id": "f07b17d3",
   "metadata": {},
   "outputs": [],
   "source": [
    "# pip install --upgrade --force-reinstall matplotlib torchvision pandas"
   ]
  },
  {
   "cell_type": "code",
   "execution_count": null,
   "id": "149174cc",
   "metadata": {},
   "outputs": [],
   "source": [
    "import torch\n",
    "from torch.utils.data import Dataset\n",
    "from torchvision import datasets\n",
    "from torchvision.transforms import ToTensor\n",
    "import matplotlib.pyplot as plt\n",
    "\n",
    "# 加载已有数据集\n",
    "training_data = datasets.FashionMNIST(\n",
    "    root=\"data\",# 存储路径\n",
    "    train=True,# 指定训练或测试数据集\n",
    "    download=True,# 如果数据不可用，请从internet下载\n",
    "    transform=ToTensor()# 内置转化器 \n",
    ")\n",
    "test_data = datasets.FashionMNIST(\n",
    "    root=\"data\",\n",
    "    train=False,\n",
    "    download=True,\n",
    "    transform=ToTensor()\n",
    ")\n",
    "# 迭代和可视化数据集\n",
    "labels_map = {\n",
    "    0: \"T-Shirt\",\n",
    "    1: \"Trouser\",\n",
    "    2: \"Pullover\",\n",
    "    3: \"Dress\",\n",
    "    4: \"Coat\",\n",
    "    5: \"Sandal\",\n",
    "    6: \"Shirt\",\n",
    "    7: \"Sneaker\",\n",
    "    8: \"Bag\",\n",
    "    9: \"Ankle Boot\",\n",
    "}\n",
    "figure = plt.figure(figsize=(8, 8))\n",
    "cols, rows = 3, 3\n",
    "for i in range(1, cols * rows + 1):\n",
    "    sample_idx = torch.randint(len(training_data), size=(1,)).item()\n",
    "    img, label = training_data[sample_idx]\n",
    "    figure.add_subplot(rows, cols, i)\n",
    "    plt.title(labels_map[label])\n",
    "    plt.axis(\"off\")\n",
    "    plt.imshow(img.squeeze(), cmap=\"gray\")\n",
    "plt.show()"
   ]
  },
  {
   "cell_type": "code",
   "execution_count": null,
   "id": "aac565d4",
   "metadata": {},
   "outputs": [],
   "source": [
    "# 自定义数据集类必须实现三个函数:__init__,__len__,和__getitem__\n",
    "import os\n",
    "import pandas as pd\n",
    "from torchvision.io import decode_image\n",
    "\n",
    "class CustomImageDataset(Dataset):\n",
    "    def __init__(self, annotations_file, img_dir, transform=None, target_transform=None):\n",
    "        self.img_labels = pd.read_csv(annotations_file)\n",
    "        self.img_dir = img_dir\n",
    "        self.transform = transform\n",
    "        self.target_transform = target_transform\n",
    "\n",
    "    def __len__(self):\n",
    "        return len(self.img_labels)\n",
    "\n",
    "    def __getitem__(self, idx):\n",
    "        img_path = os.path.join(self.img_dir, self.img_labels.iloc[idx, 0])\n",
    "        image = decode_image(img_path)\n",
    "        label = self.img_labels.iloc[idx, 1]\n",
    "        if self.transform:\n",
    "            image = self.transform(image)\n",
    "        if self.target_transform:\n",
    "            label = self.target_transform(label)\n",
    "        return image, label"
   ]
  },
  {
   "cell_type": "code",
   "execution_count": null,
   "id": "677464a5",
   "metadata": {},
   "outputs": [],
   "source": [
    "# 使用DataLoaders\n",
    "from torch.utils.data import DataLoader\n",
    "\n",
    "train_dataloader = DataLoader(training_data, batch_size=64, shuffle=True)# shuffle=True 混洗数据\n",
    "test_dataloader = DataLoader(test_data, batch_size=64, shuffle=True)\n",
    "\n",
    "train_features, train_labels = next(iter(train_dataloader))\n",
    "print(f\"Feature batch shape: {train_features.size()}\")\n",
    "print(f\"Labels batch shape: {train_labels.size()}\")\n",
    "img = train_features[0].squeeze()   # .squeeze()压缩一个维度\n",
    "label = train_labels[0]\n",
    "plt.axis(\"off\")\n",
    "plt.imshow(img, cmap=\"gray\")\n",
    "plt.show()\n",
    "print(f\"Label: {label}\")\n",
    "\n",
    "# 分批读取\n",
    "epochs = 10 # 10轮 \n",
    "for i in range(epochs):\n",
    "    for batch_idx,(batch_x,batch_y) in enumerate(train_dataloader):\n",
    "        print(f\"epoch[{i}] batch[{batch_idx}]\")"
   ]
  },
  {
   "cell_type": "code",
   "execution_count": null,
   "id": "cee8633d",
   "metadata": {},
   "outputs": [],
   "source": [
    "# 内置转换器: transform修改格式, target_transform修改标签 # 钩子函数\n",
    "import torch\n",
    "from torchvision import datasets\n",
    "from torchvision.transforms import ToTensor, Lambda\n",
    "\n",
    "ds = datasets.FashionMNIST(\n",
    "    root=\"data\",\n",
    "    train=True,\n",
    "    download=True,\n",
    "    # ToTensor(): PIL图像 or NumPyndarray -> FloatTensor[0,1]\n",
    "    transform=ToTensor(),\n",
    "    # (28,28,1) -> (1,28,28)\n",
    "    # 图像(高,宽,通道) -> tensor(通道,高,宽) \n",
    "    target_transform=Lambda(lambda y: torch.zeros(10, dtype=torch.float).scatter_(0, torch.tensor(y), value=1))\n",
    "    # 4 -> tensor[0,0,0,1,0,0]\n",
    "    # 标签整数 -> one-hot张量\n",
    ")"
   ]
  },
  {
   "cell_type": "markdown",
   "id": "b932096a",
   "metadata": {},
   "source": [
    "# Neural Network\n"
   ]
  },
  {
   "cell_type": "code",
   "execution_count": null,
   "id": "eb63398b",
   "metadata": {},
   "outputs": [],
   "source": [
    "import os\n",
    "import torch\n",
    "from torch import nn\n",
    "from torch.utils.data import DataLoader\n",
    "from torchvision import datasets, transforms\n",
    "\n",
    "device = torch.accelerator.current_accelerator().type if torch.accelerator.is_available() else \"cpu\"\n",
    "print(f\"Using device: {device}\")"
   ]
  },
  {
   "cell_type": "code",
   "execution_count": null,
   "id": "232128da",
   "metadata": {},
   "outputs": [],
   "source": [
    "class NeuralNetwork(nn.Module):\n",
    "    def __init__(self):\n",
    "        super().__init__()\n",
    "        self.flatten = nn.Flatten() # x=(batch=2,28*28)\n",
    "        self.linear_relu_stack = nn.Sequential( # 打包计算操作\n",
    "            nn.Linear(28*28, 512),  # Linear层 x*W+b: 参数W=(28*28,512),b=(512) -> (2,512)   # 线性\n",
    "            nn.ReLU(),              # 激活函数ReLU(), 负数全变0                     # 非线性\n",
    "            nn.Linear(512, 512),\n",
    "            nn.ReLU(),\n",
    "            nn.Linear(512, 10),\n",
    "        )\n",
    "        self.softmax = nn.Softmax(dim=1)    # Softmax层: 分别求X_i/sum(e^X_j) -> 概率[0,1]\n",
    "\n",
    "    def forward(self, x):\n",
    "        x = self.flatten(x)# 展平(512,1,28,28) -> x=(512,1*28*28)\n",
    "        logits = self.linear_relu_stack(x)# -> (512, 10)\n",
    "        prob = self.softmax(logits)\n",
    "        return prob\n",
    "\n",
    "model = NeuralNetwork().to(device)# 实例化model\n",
    "\n",
    "# 实例测试\n",
    "X = torch.rand(2, 28, 28, device=device)\n",
    "# print(X.shape,X.dtype)\n",
    "prob = model(X)\n",
    "y_pred = prob.argmax(1) # axis=1 # 轴1上最大值的下标\n",
    "print(f\"y_pred == {y_pred}\\n\")\n",
    "# 可视化模型参数\n",
    "print(f\"Model structure: {model}\\n\")\n",
    "for name, param in model.named_parameters():# 层名,可学习参数\n",
    "    print(f\"Layer: {name} | Size: {param.size()} | Values : {param[:2]} | requires_grad == {param.requires_grad}\")"
   ]
  },
  {
   "cell_type": "markdown",
   "id": "1b8eb0dd",
   "metadata": {},
   "source": [
    "# Autograd"
   ]
  },
  {
   "cell_type": "code",
   "execution_count": null,
   "id": "70650b57",
   "metadata": {},
   "outputs": [],
   "source": [
    "import torch\n",
    "\n",
    "x = torch.ones(5)  # input tensor\n",
    "y = torch.zeros(3)  # expected output\n",
    "w = torch.randn(5, 3, requires_grad=True)\n",
    "b = torch.randn(3, requires_grad=True)\n",
    "z = x @ w+b\n",
    "# 正向传播\n",
    "loss = torch.nn.functional.binary_cross_entropy_with_logits(z, y)\n",
    "print(f\"loss.grad_fn == {loss.grad_fn}\")# loss的前一个算子\n",
    "# 反向传播\n",
    "loss.backward()\n",
    "print(f\"w == \\n{w}\")\n",
    "print(f\"w.grad == \\n{w.grad}\")\n",
    "print(f\"b.grad == {b.grad}\")\n",
    "\n",
    "print(f\"\\nBEFORE: z.requires_grad == {z.requires_grad}\")\n",
    "z.detach_() # detach()禁用梯度跟踪\n",
    "print(f\"AFTER: z.requires_grad == {z.requires_grad}\")"
   ]
  },
  {
   "cell_type": "markdown",
   "id": "8b8cf45e",
   "metadata": {},
   "source": [
    "# Optimizing Model Parameters"
   ]
  },
  {
   "cell_type": "code",
   "execution_count": null,
   "id": "bc4fca03",
   "metadata": {},
   "outputs": [],
   "source": [
    "# 前置代码\n",
    "import torch\n",
    "from torch import nn\n",
    "from torch.utils.data import DataLoader\n",
    "from torchvision import datasets\n",
    "from torchvision.transforms import ToTensor\n",
    "\n",
    "training_data = datasets.FashionMNIST(\n",
    "    root=\"data\",\n",
    "    train=True,\n",
    "    download=True,\n",
    "    transform=ToTensor()\n",
    ")\n",
    "test_data = datasets.FashionMNIST(\n",
    "    root=\"data\",\n",
    "    train=False,\n",
    "    download=True,\n",
    "    transform=ToTensor()\n",
    ")\n",
    "\n",
    "train_dataloader = DataLoader(training_data, batch_size=64)\n",
    "test_dataloader = DataLoader(test_data, batch_size=64)\n",
    "\n",
    "class NeuralNetwork(nn.Module):\n",
    "    def __init__(self):\n",
    "        super().__init__()\n",
    "        self.flatten = nn.Flatten()\n",
    "        self.linear_relu_stack = nn.Sequential(\n",
    "            nn.Linear(28*28, 512),\n",
    "            nn.ReLU(),\n",
    "            nn.Linear(512, 512),\n",
    "            nn.ReLU(),\n",
    "            nn.Linear(512, 10),\n",
    "        )\n",
    "\n",
    "    def forward(self, x):\n",
    "        x = self.flatten(x)\n",
    "        logits = self.linear_relu_stack(x)\n",
    "        return logits\n",
    "\n",
    "model = NeuralNetwork()"
   ]
  },
  {
   "cell_type": "code",
   "execution_count": null,
   "id": "0172c409",
   "metadata": {},
   "outputs": [],
   "source": [
    "# 超参数Hyperparameters:\n",
    "learning_rate = 1e-3\n",
    "batch_size = 64\n",
    "epochs = 5\n",
    "# 常用损失函数: \n",
    "# nn.MSELoss(均方误差) 用于回归任务\n",
    "# nn.NLLLoss(负对数似然) 用于分类\n",
    "loss_fn = nn.CrossEntropyLoss()# 交叉商损失函数, 联合nn.LogSoftmax和nn.NLLLoss\n",
    "# 优化器，用于控制学习率lr\n",
    "optimizer = torch.optim.SGD(model.parameters(), lr=learning_rate)# SGD随机梯度下降"
   ]
  },
  {
   "cell_type": "code",
   "execution_count": null,
   "id": "d16ffba6",
   "metadata": {},
   "outputs": [],
   "source": [
    "# 循环loop: train_loop, test_loop\n",
    "def train_loop(dataloader, model, loss_fn, optimizer):\n",
    "    model.train()   # 模型设为train模式(此处非必要)\n",
    "    print(\"training...\")\n",
    "    size = len(dataloader.dataset)\n",
    "    for batch, (X, y) in enumerate(dataloader):\n",
    "        pred = model(X) # pred = (batch_size= 64, y_pred= 10)\n",
    "        loss = loss_fn(pred, y)\n",
    "        # 反向传播\n",
    "        loss.backward()\n",
    "        optimizer.step()        # 根据lr优化, 如 w -= lr * w_grad\n",
    "        optimizer.zero_grad()   # 归零param_grad, 防止grad自动叠加\n",
    "\n",
    "        if batch % 100 == 0:# 每100*batch打印一次\n",
    "            loss, current = loss.item(), batch * batch_size + len(X)\n",
    "            print(f\"Batch[{batch}]:\\tloss: {loss:>7f}  [{current:>5d}/{size:>5d}]\")\n",
    "\n",
    "def test_loop(dataloader, model, loss_fn):\n",
    "    model.eval()# 模型设为evaluation模式(此处非必要)\n",
    "    print(\"evaluating...\")\n",
    "    size = len(dataloader.dataset)\n",
    "    num_batches = len(dataloader)\n",
    "    test_loss, correct = 0, 0\n",
    "\n",
    "    with torch.no_grad():           # test时, 前向传播不再记录grad, 节约显存\n",
    "        for X, y in dataloader:\n",
    "            pred = model(X)\n",
    "            test_loss += loss_fn(pred, y).item()\n",
    "            correct += (pred.argmax(1) == y).type(torch.float).sum().item()\n",
    "\n",
    "    test_loss /= num_batches\n",
    "    correct /= size\n",
    "    print(f\"Test Error: \\n Accuracy: {(100*correct):>0.1f}%, Avg loss: {test_loss:>8f} \\n\")\n",
    "\n",
    "for t in range(epochs):\n",
    "    print(f\"Epoch {t+1}\\t-------------------------------\")\n",
    "    train_loop(train_dataloader, model, loss_fn, optimizer)\n",
    "    test_loop(test_dataloader, model, loss_fn)\n",
    "print(\"Done!\")"
   ]
  },
  {
   "cell_type": "markdown",
   "id": "f661d7d1",
   "metadata": {},
   "source": [
    "# Save and Load the Model"
   ]
  },
  {
   "cell_type": "code",
   "execution_count": null,
   "id": "1fd0e0c4",
   "metadata": {},
   "outputs": [],
   "source": [
    "import torch\n",
    "import torchvision.models as models"
   ]
  },
  {
   "cell_type": "code",
   "execution_count": null,
   "id": "e3a64688",
   "metadata": {},
   "outputs": [],
   "source": [
    "# 保存模型和参数\n",
    "model = models.vgg16(weights='IMAGENET1K_V1')   \n",
    "torch.save(model, 'model-vgg16.pth')             \n"
   ]
  },
  {
   "cell_type": "code",
   "execution_count": null,
   "id": "048dc5c6",
   "metadata": {},
   "outputs": [],
   "source": [
    "# 加载模型\n",
    "model = torch.load('model-vgg16.pth', weights_only=False)\n",
    "model.eval()    # 将dropout层和batch规一层设置为评估模式，防止过拟合 \n",
    "print(model)\n",
    "for name,param in model.named_parameters():\n",
    "    print(name,param.shape)"
   ]
  }
 ],
 "metadata": {
  "kernelspec": {
   "display_name": "Python 3",
   "language": "python",
   "name": "python3"
  },
  "language_info": {
   "codemirror_mode": {
    "name": "ipython",
    "version": 3
   },
   "file_extension": ".py",
   "mimetype": "text/x-python",
   "name": "python",
   "nbconvert_exporter": "python",
   "pygments_lexer": "ipython3",
   "version": "3.13.5"
  }
 },
 "nbformat": 4,
 "nbformat_minor": 5
}

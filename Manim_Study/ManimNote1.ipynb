{
 "cells": [
  {
   "cell_type": "code",
   "execution_count": null,
   "id": "32991067",
   "metadata": {},
   "outputs": [],
   "source": [
    "from manim import *"
   ]
  },
  {
   "cell_type": "markdown",
   "id": "294f856e",
   "metadata": {},
   "source": [
    "# 配置"
   ]
  },
  {
   "cell_type": "markdown",
   "id": "0d47a8fa",
   "metadata": {},
   "source": [
    "## 配置命令"
   ]
  },
  {
   "cell_type": "code",
   "execution_count": null,
   "id": "3cba05c4",
   "metadata": {},
   "outputs": [],
   "source": [
    "# conda create -p /data0/bma/env/manim_env python=3.10\n",
    "# conda activate /data0/bma/env/manim_env\n",
    "# conda install -c conda-forge manim\n",
    "\n",
    "# conda deactivate"
   ]
  },
  {
   "cell_type": "markdown",
   "id": "b7f6ab72",
   "metadata": {},
   "source": [
    "## 输出设置"
   ]
  },
  {
   "cell_type": "markdown",
   "id": "d4293446",
   "metadata": {},
   "source": [
    "\n",
    "### 命令行参数:   \n",
    "Manim默认为render命令。  \n",
    "`manim [OPTIONS] FILE [SCENES]`  \n",
    "\n",
    "eg: `manim -pqh scene.py Anim`   \n",
    "- 渲染品质:   \n",
    "-ql 低  (854  x 480  15FPS)   \n",
    "-qm 中  (1280 x 720  30FPS)  \n",
    "-qh 高  (1920 x 1080 60FPS)  \n",
    "-qp 2k  (2560 x 1440 60FPS)  \n",
    "-qk 4k  (3840 x 2160 60FPS)  \n",
    "\n",
    "- 高级设置:  \n",
    "-p  一旦完成, 播放动画   \n",
    "-f  一旦完成, 打开动画文件位置   \n",
    "-s  仅输出动画的最后一帧   \n",
    "-o  指定输出文件名   \n",
    "--format gif 输出`.gif`格式动画，使用默认质量，并且不尝试渲染文件后将其打开，默认情况下manim将输出.mp4文件  "
   ]
  },
  {
   "cell_type": "markdown",
   "id": "1d4be7e1",
   "metadata": {},
   "source": [
    "### 文件输出:  \n",
    "文件夹media/videos/1080p60 对应 高分辨率和每秒60帧  \n",
    "```\n",
    "def construct(self):\n",
    "    self.next_section()                     # .next_section() 切分视频，无动画时不保存\n",
    "    self.next_section(skip_animations=True) # skip_animations=True 跳过渲染\n",
    "```\n",
    "每个部分都会在sections目录, JSON文件记录信息  "
   ]
  },
  {
   "cell_type": "markdown",
   "id": "fb8b5316",
   "metadata": {},
   "source": [
    "### 更多CLI标志:\n",
    "```\n",
    "manim --help\n",
    "manim render --help\n",
    "manim cfg --help\n",
    "manim plugins --help\n",
    "```"
   ]
  },
  {
   "cell_type": "markdown",
   "id": "7a7c2634",
   "metadata": {},
   "source": [
    "### 配置文件"
   ]
  },
  {
   "cell_type": "code",
   "execution_count": null,
   "id": "249638b2",
   "metadata": {},
   "outputs": [],
   "source": []
  },
  {
   "cell_type": "markdown",
   "id": "895447b9",
   "metadata": {},
   "source": [
    "# QuikeStart"
   ]
  },
  {
   "cell_type": "code",
   "execution_count": null,
   "id": "1c7bc094",
   "metadata": {},
   "outputs": [],
   "source": [
    "import manim as mn\n",
    "from manim import *\n",
    "\n",
    "config.media_width = \"75%\"      # 控制用于在此笔记本中显示视频的最大宽度\n",
    "config.verbosity = \"WARNING\"    # 控制日志输出的详细程度\n",
    "\n",
    "print(mn.__version__)"
   ]
  },
  {
   "cell_type": "code",
   "execution_count": null,
   "id": "e483958e",
   "metadata": {},
   "outputs": [],
   "source": [
    "%%manim -qm Anim0\n",
    "\n",
    "class Anim0(Scene):\n",
    "   def construct(self):\n",
    "      circle = Circle(color=BLUE, fill_opacity=1)   # 创建对象\n",
    "      square = Square()\n",
    "      square.set_fill(GREEN, 0.8)                     # set_fill设置颜色，透明度\n",
    "\n",
    "      square.rotate(PI / 4)   # 旋转\n",
    "      # play\n",
    "      self.play(Create(square))\n",
    "      self.play(Transform(square, circle))\n",
    "      self.wait()\n",
    "      self.play(FadeOut(square))\n"
   ]
  },
  {
   "cell_type": "code",
   "execution_count": null,
   "id": "a2b1090b",
   "metadata": {},
   "outputs": [],
   "source": [
    "%%manim -qm SquareAndCircle\n",
    "\n",
    "class SquareAndCircle(Scene):\n",
    "    def construct(self):\n",
    "        circle = Circle()  \n",
    "        circle.set_fill(PINK, opacity=0.5)  \n",
    "        square = Square()  \n",
    "        square.set_fill(BLUE, opacity=0.5)\n",
    "\n",
    "        square.next_to(circle, RIGHT, buff=0.5)  # 定位\n",
    "        self.play(Create(circle), Create(square))  \n",
    "\n",
    "# Mobject定位方法\n"
   ]
  },
  {
   "cell_type": "code",
   "execution_count": null,
   "id": "624cb621",
   "metadata": {},
   "outputs": [],
   "source": [
    "%%manim -qm AnimatedSquareToCircle\n",
    "\n",
    "class AnimatedSquareToCircle(Scene):\n",
    "    def construct(self):\n",
    "        circle = Circle()\n",
    "        square = Square()\n",
    "\n",
    "        self.play(Create(square))  \n",
    "        self.play(square.animate.rotate(PI / 4))  \n",
    "        self.play(Transform(square, circle))\n",
    "        self.play(square.animate.set_fill(PINK, opacity=0.5))  \n",
    "\n",
    "# .animate 使用动画"
   ]
  },
  {
   "cell_type": "code",
   "execution_count": null,
   "id": "4bf89af5",
   "metadata": {},
   "outputs": [],
   "source": [
    "%%manim -qm DifferentRotations\n",
    "\n",
    "class DifferentRotations(Scene):\n",
    "    def construct(self):\n",
    "        left_square = Square(color=BLUE, fill_opacity=0.7).shift(2 * LEFT)\n",
    "        right_square = Square(color=GREEN, fill_opacity=0.7).shift(2 * RIGHT)\n",
    "        self.play(\n",
    "            left_square.animate.rotate(PI), Rotate(right_square, angle=PI), run_time=2\n",
    "        )\n",
    "        self.wait()\n",
    "\n",
    "# 不同旋转 .animate.rotate Rotate"
   ]
  },
  {
   "cell_type": "code",
   "execution_count": null,
   "id": "1a60f8dd",
   "metadata": {},
   "outputs": [],
   "source": [
    "%%manim -qm TwoTransforms\n",
    "\n",
    "class TwoTransforms(Scene):\n",
    "    def transform(self):\n",
    "        a = Circle()\n",
    "        t1 = Square()\n",
    "        t2 = Triangle()\n",
    "        self.add(a)\n",
    "        for t in [t1,t2]:\n",
    "            self.play(Transform(a,t))\n",
    "        self.play(FadeOut(a))\n",
    "\n",
    "    def replacement_transform(self):\n",
    "        a = Circle()\n",
    "        b = Square()\n",
    "        c = Triangle()\n",
    "        self.play(ReplacementTransform(a, b))\n",
    "        self.play(ReplacementTransform(b, c))\n",
    "        self.play(FadeOut(c))\n",
    "\n",
    "    def construct(self):\n",
    "        self.transform()\n",
    "        self.wait(0.5)  \n",
    "        self.replacement_transform()\n",
    "\n",
    "# 两种不同变形 transform ReplacementTransform"
   ]
  },
  {
   "cell_type": "markdown",
   "id": "91c44b5c",
   "metadata": {},
   "source": [
    "# 构建block块"
   ]
  },
  {
   "cell_type": "code",
   "execution_count": null,
   "id": "7aad28ab",
   "metadata": {},
   "outputs": [],
   "source": [
    "%%manim -qm Anim1\n",
    "\n",
    "class Anim1(Scene):\n",
    "    def construct(self):\n",
    "        # 初始化，mobjects 默认位置为坐标中心，有各自默认颜色\n",
    "        circle = Circle()\n",
    "        square = Square()\n",
    "        triangle = Triangle()\n",
    "\n",
    "        # 位置移动，变量 = { ORIGIN, UP, DOWN, LEFT, RIGHT }\n",
    "        circle.shift(UP)                # shift() 移动，\n",
    "        circle.move_to(LEFT * 2)        # move_to() 绝对单位移动\n",
    "        square.next_to(circle, LEFT)    # next_to() 相邻\n",
    "        triangle.align_to(circle, RIGHT)# align_to() 边界对齐\n",
    "\n",
    "        # 创建与移除\n",
    "        self.add(circle, square, triangle)  # add()创建，包含层叠顺序\n",
    "        self.wait(1)\n",
    "        self.remove(circle)                 # remove()移除\n",
    "        self.wait(1)   "
   ]
  },
  {
   "cell_type": "code",
   "execution_count": null,
   "metadata": {},
   "outputs": [],
   "source": [
    "%%manim -qm Anim2\n",
    "\n",
    "class Anim2(Scene):\n",
    "    def construct(self):\n",
    "        self.camera.background_color = WHITE # 背景颜色\n",
    "        circle = Circle().shift(LEFT*3)\n",
    "        triangle = Triangle().shift(RIGHT*3)\n",
    "        square = Square().shift(UP)\n",
    "\n",
    "        # 美学效果\n",
    "        circle.set_stroke(color=GREEN, width=20)    # set_stroke() 边框\n",
    "        triangle.set_fill(PINK, opacity=0.8)        # set_fill() 填充\n",
    "        self.add(circle, triangle, square)             \n",
    "\n",
    "        # 动画play()，参数 run_time = 时间\n",
    "        self.play(FadeIn(square))       # FadeIn() 淡进\n",
    "        self.play(Rotate(square, PI/4)) # Rotate() 旋转\n",
    "        self.play(FadeOut(square))      # FadeOut() 淡出\n",
    "        self.wait(1)\n",
    "        \n",
    "        # 动画方法.animate\n",
    "        self.play(square.animate.set_fill(GREEN))   # .animate.set_fill()改变颜色\n",
    "        self.wait(1)\n",
    "        self.play(square.animate.shift(UP).rotate(PI / 3))  # .animate.shift()平移 # 同时进行\n",
    "        self.wait(1)\n",
    "\n",
    "        # 转换 Transform()\n",
    "        m1 = Rectangle().set_color(RED).rotate(0.2)\n",
    "        m2 = Square().set_color(RED)\n",
    "        self.play(Transform(m1,m2))      \n",
    "        self.wait(1)\n",
    "        m1a = Square().set_color(RED).shift(LEFT)\n",
    "        m1b = Circle().set_color(RED).shift(LEFT)\n",
    "        m2a = Square().set_color(BLUE).shift(RIGHT)\n",
    "        m2b = Circle().set_color(BLUE).shift(RIGHT)\n",
    "\n",
    "        points = m2a.points\n",
    "        points = np.roll(points, int(len(points)/4), axis=0)# np.roll(轴, 位移, 维度=0) 实现横滚 \n",
    "        m2a.points = points\n",
    "\n",
    "        self.play(Transform(m1a,m1b),Transform(m2a,m2b), run_time=1)\n"
   ]
  },
  {
   "cell_type": "code",
   "execution_count": null,
   "id": "66cca253",
   "metadata": {},
   "outputs": [],
   "source": [
    "%%manim -qm Anim3\n",
    "\n",
    "class Anim3(Scene):         # 坐标\n",
    "    def construct(self):\n",
    "        p1 = [-1,-1, 0]\n",
    "        p2 = [ 1,-1, 0]\n",
    "        p3 = [ 1, 1, 0]\n",
    "        p4 = [-1, 1, 0]\n",
    "        a  = Line(p1,p2).append_points(Line(p2,p3).points).append_points(Line(p3,p4).points)\n",
    "        # Line() 连线\n",
    "        # .points 取点 -> 数组\n",
    "        # .append_points() 按给定数组加点\n",
    "        point_start  = a.get_start()    # 取起始点\n",
    "        point_end    = a.get_end()      # 取终点\n",
    "        point_center = a.get_center()   # 取中心点\n",
    "        self.add(Text(f\"a.get_start() = {np.round(point_start,2).tolist()}\", font_size=24).to_edge(UR).set_color(YELLOW))# .to_edge(UR)\n",
    "        self.add(Text(f\"a.get_end() = {np.round(point_end,2).tolist()}\", font_size=24).next_to(self.mobjects[-1],DOWN).set_color(RED))# .next_to(self.mobjects[-1],DOWN)\n",
    "        self.add(Text(f\"a.get_center() = {np.round(point_center,2).tolist()}\", font_size=24).next_to(self.mobjects[-1],DOWN).set_color(BLUE))\n",
    "\n",
    "        self.add(Dot(a.get_start()).set_color(YELLOW).scale(2)) # a.get_start()\n",
    "        self.add(Dot(a.get_end()).set_color(RED).scale(2))      # a.get_end()\n",
    "        self.add(Dot(a.get_top()).set_color(GREEN_A).scale(2))  # a.get_top()\n",
    "        self.add(Dot(a.get_bottom()).set_color(GREEN_D).scale(2))# a.get_bottom()\n",
    "        self.add(Dot(a.get_center()).set_color(BLUE).scale(2))  # a.get_center()\n",
    "        self.add(Dot(a.point_from_proportion(0.5)).set_color(ORANGE).scale(2))# a.point_from_proportion(0.5) 按百分比定位\n",
    "        self.add(*[Dot(x) for x in a.points])\n",
    "        self.add(a)"
   ]
  },
  {
   "cell_type": "code",
   "execution_count": null,
   "id": "14e650dd",
   "metadata": {},
   "outputs": [],
   "source": [
    "%%manim -qm Anim4\n",
    "\n",
    "# ManimConfig类\n",
    "# Camera,Mobject,Animation从全局读取他们的一些默认配置config\n",
    "config.background_color = WHITE\n",
    "# ManimConfig有内部一致性，如设置frame_y_radius会影响frame_height\n",
    "config.frame_height # == 8.0\n",
    "config.frame_y_radius = 5.0\n",
    "config.frame_height # == 10.0\n",
    "\n",
    "class Anim4(Scene):     # 示例框架\n",
    "    def construct(self):\n",
    "        pixel_height = config[\"pixel_height\"]  #  1080 is default\n",
    "        pixel_width = config[\"pixel_width\"]  # 1920 is default\n",
    "        frame_height = config[\"frame_height\"]\n",
    "        frame_width = config[\"frame_width\"]\n",
    "        self.add(Dot())\n",
    "        d1 = Line(frame_width * LEFT / 2, frame_width * RIGHT / 2).to_edge(DOWN)\n",
    "        self.add(d1)\n",
    "        self.add(Text(str(pixel_width)).next_to(d1, UP))\n",
    "        d2 = Line(frame_height * UP / 2, frame_height * DOWN / 2).to_edge(LEFT)\n",
    "        self.add(d2)\n",
    "        self.add(Text(str(pixel_height)).next_to(d2, RIGHT))\n"
   ]
  },
  {
   "cell_type": "markdown",
   "id": "f4af0e58",
   "metadata": {},
   "source": [
    "# 文本"
   ]
  },
  {
   "cell_type": "markdown",
   "id": "67cc7e92",
   "metadata": {},
   "source": [
    "### 使用 `Text()`"
   ]
  },
  {
   "cell_type": "code",
   "execution_count": null,
   "id": "f2e612d1",
   "metadata": {},
   "outputs": [],
   "source": [
    "import manimpango\n",
    "manimpango.list_fonts()# 获取字体列表"
   ]
  },
  {
   "cell_type": "code",
   "execution_count": null,
   "id": "597e287c",
   "metadata": {},
   "outputs": [],
   "source": [
    "%%manim -qm Anim_text1\n",
    "\n",
    "class Anim_text1(Scene):\n",
    "    def construct(self):\n",
    "        text1 = Text(\"Hello world\", font_size=144)\n",
    "        self.add(text1)"
   ]
  },
  {
   "cell_type": "code",
   "execution_count": null,
   "id": "899aba64",
   "metadata": {},
   "outputs": [],
   "source": []
  },
  {
   "cell_type": "markdown",
   "id": "a8a18a1c",
   "metadata": {},
   "source": [
    "### 使用 `MarkupText()`"
   ]
  },
  {
   "cell_type": "code",
   "execution_count": null,
   "id": "ecfaa123",
   "metadata": {},
   "outputs": [],
   "source": []
  },
  {
   "cell_type": "markdown",
   "id": "de5838e8",
   "metadata": {},
   "source": [
    "## 使用 LaTeX"
   ]
  }
 ],
 "metadata": {
  "kernelspec": {
   "display_name": "Python 3",
   "language": "python",
   "name": "python3"
  },
  "language_info": {
   "codemirror_mode": {
    "name": "ipython",
    "version": 3
   },
   "file_extension": ".py",
   "mimetype": "text/x-python",
   "name": "python",
   "nbconvert_exporter": "python",
   "pygments_lexer": "ipython3",
   "version": "3.10.18"
  }
 },
 "nbformat": 4,
 "nbformat_minor": 5
}

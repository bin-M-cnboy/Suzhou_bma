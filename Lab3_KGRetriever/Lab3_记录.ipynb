{
 "cells": [
  {
   "cell_type": "code",
   "execution_count": null,
   "id": "9e0495a7",
   "metadata": {},
   "outputs": [],
   "source": [
    "conda create -p /data0/bma/env/KG_Retriever python=3.10.13\n",
    "conda activate /data0/bma/env/KG_Retriever\n",
    "pip install -r /data0/bma/Lab3_KG_Retriever/requirements.txt\n",
    "conda deactivate"
   ]
  },
  {
   "cell_type": "markdown",
   "id": "12894b7d",
   "metadata": {},
   "source": [
    "数据集：  \n",
    "HotpotQA --- 多跳英语QA {K=2, N=3, T=20, λ=0.1}  \n",
    "MuSiQue --- 执行多个推理步骤来回答问题  \n",
    "2WikiMultilHopQA --- 多跳英语QA   \n",
    "CRUD-QA1 --- 中国主流新闻单跳QA  \n",
    "CRUD-QA2 --- 中国主流新闻多跳QA  "
   ]
  },
  {
   "cell_type": "markdown",
   "id": "b37e3ef8",
   "metadata": {},
   "source": [
    "### 步骤1: 准备数据集\n",
    "- 下载数据集和llm:  \n",
    "- 预处理数据集:  \n",
    "    - 为每个数据集运行src/dataset/preprocess/xxx.py\n",
    "    - 运行extract_triples进行三元组提取\n",
    "### 步骤2: 运行模型演示\n",
    "- 运行run_demo_EX_hotpop_v0.py在基本模式下运行模型\n",
    "- 运行run_demo_EX_hotpop_v1.py在其他模式下运行模型"
   ]
  },
  {
   "cell_type": "code",
   "execution_count": null,
   "id": "4c46f3df",
   "metadata": {},
   "outputs": [],
   "source": [
    "pip install pandas\n",
    "python /data0/bma/Lab3_KG_Retriever/src/dataset/preprocess/preprocess_hotpop.py\n",
    "python /data0/bma/Lab3_KG_Retriever/run_demo_EX_hotpop_v0.py"
   ]
  },
  {
   "cell_type": "code",
   "execution_count": null,
   "id": "23167d0d",
   "metadata": {},
   "outputs": [],
   "source": [
    "python /data0/bma/Lab3_KG_Retriever/src/dataset/hotpop_datasets.py"
   ]
  },
  {
   "cell_type": "code",
   "execution_count": null,
   "id": "a5aaaadb",
   "metadata": {},
   "outputs": [],
   "source": [
    "import os\n",
    "import sys\n",
    "sys.path.append(os.path.dirname(os.path.dirname(\"__file__\")))# 使用相对路径"
   ]
  },
  {
   "cell_type": "code",
   "execution_count": null,
   "id": "be303e43",
   "metadata": {},
   "outputs": [],
   "source": [
    "torch==2.2.2 torch-scatter==2.1.2 torch_geometric==2.5.2 torchaudio==2.2.2 torchvision==0.17.2"
   ]
  },
  {
   "cell_type": "code",
   "execution_count": null,
   "id": "2752642a",
   "metadata": {},
   "outputs": [],
   "source": [
    "python /data0/bma/Lab3_KG_Retriever/src/dataset/preprocess/preprocess_hotpop.py\n",
    "\n",
    "pip install torch==2.2.2, numpy==1.24.1, transformers==4.31.0, sentence-transformers==2.2.2\n",
    "pip install torch_geometric==2.5.2, pandas==2.2.0, pyarrow==15.0.2, pyarrow-hotfix==0.6\n",
    "pip install huggingface-hub==0.19.4"
   ]
  },
  {
   "cell_type": "code",
   "execution_count": null,
   "id": "5cff8166",
   "metadata": {},
   "outputs": [],
   "source": [
    "pip install spacy\n",
    "wget -P /data0/bma/Lab3_KG_Retriever/src/dataset/HOTPOPQA http://curtis.ml.cmu.edu/datasets/hotpot/hotpot_dev_distractor_v1.json\n",
    "wget -P /data0/bma/Lab3_KG_Retriever/src/dataset/HOTPOPQA http://curtis.ml.cmu.edu/datasets/hotpot/hotpot_dev_fullwiki_v1.json\n",
    "wget -P /data0/bma/Lab3_KG_Retriever/src/dataset/HOTPOPQA http://curtis.ml.cmu.edu/datasets/hotpot/hotpot_train_v1.1.json"
   ]
  }
 ],
 "metadata": {
  "language_info": {
   "name": "python"
  }
 },
 "nbformat": 4,
 "nbformat_minor": 5
}
